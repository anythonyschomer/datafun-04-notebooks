{
 "cells": [
  {
   "attachments": {},
   "cell_type": "markdown",
   "metadata": {},
   "source": [
    "\n",
    "#**Module 4 Project Part 1**\n",
    "\n",
    "####Author: Anthony Schomer\n",
    "\n",
    "####GitHub Link: https://github.com/anythonyschomer\n",
    "***\n",
    "##**Task 1- Series**\n"
   ]
  },
  {
   "cell_type": "code",
   "execution_count": null,
   "metadata": {
    "vscode": {
     "languageId": "plaintext"
    }
   },
   "outputs": [],
   "source": [
    "#Importing Pandas and Numpy\n",
    "import pandas as pd\n",
    "import numpy as np"
   ]
  },
  {
   "attachments": {},
   "cell_type": "markdown",
   "metadata": {},
   "source": [
    "####*Series or Exam Scores*\n"
   ]
  },
  {
   "cell_type": "code",
   "execution_count": null,
   "metadata": {
    "vscode": {
     "languageId": "plaintext"
    }
   },
   "outputs": [],
   "source": [
    "# Creating a Series of Exam Scores\n",
    "grades = pd.Series([87, 100, 94, 91, 74, 85, 98, 100, 82, 88])\n",
    "print (\"Below is a table of exam scores.\")\n",
    "print (grades)\n"
   ]
  },
  {
   "cell_type": "code",
   "execution_count": null,
   "metadata": {
    "vscode": {
     "languageId": "plaintext"
    }
   },
   "outputs": [],
   "source": [
    "    \n",
    "     \"data\": {\n",
    "      \"text/plain\": [\n",
    "       \"count      5.000000\\n\",\n",
    "       \"mean      86.800000\\n\",\n",
    "       \"std        9.654015\\n\",\n",
    "       \"min       74.000000\\n\",\n",
    "       \"25%       82.000000\\n\",\n",
    "       \"50%       88.000000\\n\",\n",
    "       \"75%       90.000000\\n\",\n",
    "       \"max      100.000000\\n\",\n",
    "       \"dtype: float64\"\n",
    "      ]\n",
    "     }"
   ]
  }
 ],
 "metadata": {
  "language_info": {
   "name": "python"
  },
  "orig_nbformat": 4
 },
 "nbformat": 4,
 "nbformat_minor": 2
}
