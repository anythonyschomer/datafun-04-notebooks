{
 "cells": [
  {
   "attachments": {},
   "cell_type": "markdown",
   "metadata": {},
   "source": [
    "\n",
    "#**Module 4 Project Part 1**\n",
    "\n",
    "####Author: Anthony Schomer\n",
    "\n",
    "####GitHub Link: https://github.com/anythonyschomer\n",
    "***\n",
    "##**Task 1- Series**\n"
   ]
  },
  {
   "cell_type": "code",
   "execution_count": null,
   "metadata": {
    "vscode": {
     "languageId": "plaintext"
    }
   },
   "outputs": [],
   "source": [
    "#Importing Pandas and Numpy\n",
    "import pandas as pd\n",
    "import numpy as np"
   ]
  },
  {
   "attachments": {},
   "cell_type": "markdown",
   "metadata": {},
   "source": [
    "####*Series or Exam Scores*\n"
   ]
  },
  {
   "cell_type": "code",
   "execution_count": null,
   "metadata": {
    "vscode": {
     "languageId": "plaintext"
    }
   },
   "outputs": [],
   "source": [
    "# Creating a Series of Exam Scores\n",
    "grades = pd.Series([87, 100, 94, 91, 74, 85, 98, 100, 82, 88])\n",
    "print (\"Below is a table of exam scores.\")\n",
    "print (grades)"
   ]
  },
  {
   "attachments": {},
   "cell_type": "markdown",
   "metadata": {},
   "source": [
    "Below is a table of exam scores.\n",
    "0     87\n",
    "1    100\n",
    "2     94\n",
    "3     91\n",
    "4     74\n",
    "5     85\n",
    "6     98\n",
    "7    100\n",
    "8     82\n",
    "9     88\n",
    "dtype: int64"
   ]
  }
 ],
 "metadata": {
  "language_info": {
   "name": "python"
  },
  "orig_nbformat": 4
 },
 "nbformat": 4,
 "nbformat_minor": 2
}
