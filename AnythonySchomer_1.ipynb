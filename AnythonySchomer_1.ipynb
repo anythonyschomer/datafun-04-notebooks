{
 "cells": [
  {
   "cell_type": "code",
   "execution_count": null,
   "metadata": {},
   "outputs": [],
   "source": [
    "Module 4 Project Part 1\n",
    "Author: Anthony Schomer\n",
    "GitHub Link: https://github.com/anythonyschomer"
   ]
  }
 ],
 "metadata": {
  "language_info": {
   "name": "python"
  },
  "orig_nbformat": 4
 },
 "nbformat": 4,
 "nbformat_minor": 2
}
