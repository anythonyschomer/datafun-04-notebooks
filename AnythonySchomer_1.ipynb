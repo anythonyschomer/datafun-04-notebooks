{
 "cells": [
  {
   "attachments": {},
   "cell_type": "markdown",
   "metadata": {},
   "source": [
    "\n",
    "#**Module 4 Project Part 1**\n",
    "\n",
    "####Author: Anthony Schomer\n",
    "\n",
    "####GitHub Link: https://github.com/anythonyschomer\n",
    "***\n",
    "##**Task 1- Series**\n"
   ]
  },
  {
   "cell_type": "code",
   "execution_count": null,
   "metadata": {
    "vscode": {
     "languageId": "plaintext"
    }
   },
   "outputs": [],
   "source": [
    "#Importing Pandas and Numpy\n",
    "import pandas as pd\n",
    "import numpy as np"
   ]
  },
  {
   "attachments": {},
   "cell_type": "markdown",
   "metadata": {},
   "source": [
    "####*Series or Exam Scores*\n"
   ]
  },
  {
   "cell_type": "code",
   "execution_count": null,
   "metadata": {
    "vscode": {
     "languageId": "plaintext"
    }
   },
   "outputs": [],
   "source": [
    "# Creating a Series of Exam Scores\n",
    "grades = pd.Series([87, 100, 94, 91, 74, 85, 98, 100, 82, 88])\n",
    "print (\"Below is a table of exam scores.\")\n",
    "print (grades)"
   ]
  },
  {
   "cell_type": "code",
   "execution_count": null,
   "metadata": {
    "vscode": {
     "languageId": "plaintext"
    }
   },
   "outputs": [],
   "source": [
    "    \"text\": [\n",
    "      \"Below is a table of exam scores.\\n\",\n",
    "      \"0     87\\n\",\n",
    "      \"1    100\\n\",\n",
    "      \"2     94\\n\",\n",
    "      \"3     91\\n\",\n",
    "      \"4     74\\n\",\n",
    "      \"5     85\\n\",\n",
    "      \"6     98\\n\",\n",
    "      \"7    100\\n\",\n",
    "      \"8     82\\n\",\n",
    "      \"9     88\\n\",\n",
    "      \"dtype: int64\\n\"\n",
    "     ]"
   ]
  }
 ],
 "metadata": {
  "language_info": {
   "name": "python"
  },
  "orig_nbformat": 4
 },
 "nbformat": 4,
 "nbformat_minor": 2
}
